{
 "cells": [
  {
   "cell_type": "code",
   "execution_count": null,
   "metadata": {},
   "outputs": [],
   "source": [
    "## Source: https://www.kaggle.com/aakashnain/dicom-to-jpg-png-on-steroids\n",
    "## Source: https://www.kaggle.com/bioscience/dicom-to-jpeg-conversion-kernel-s"
   ]
  },
  {
   "cell_type": "code",
   "execution_count": 1,
   "metadata": {},
   "outputs": [],
   "source": [
    "import warnings\n",
    "warnings.filterwarnings('always')\n",
    "warnings.filterwarnings('ignore')"
   ]
  },
  {
   "cell_type": "code",
   "execution_count": 2,
   "metadata": {},
   "outputs": [],
   "source": [
    "import os\n",
    "import glob\n",
    "import pandas as pd\n",
    "import pydicom\n",
    "import tqdm\n",
    "import cv2"
   ]
  },
  {
   "cell_type": "code",
   "execution_count": 3,
   "metadata": {},
   "outputs": [],
   "source": [
    "input_path = \"data/\"\n",
    "train_imgs = glob.glob(f\"{input_path}/*.dcm\")"
   ]
  },
  {
   "cell_type": "code",
   "execution_count": 4,
   "metadata": {},
   "outputs": [],
   "source": [
    "outdir = \"processed_images/\"\n",
    "\n",
    "# Make the directory\n",
    "if not os.path.exists(outdir):\n",
    "    os.mkdir(outdir)"
   ]
  },
  {
   "cell_type": "code",
   "execution_count": 5,
   "metadata": {},
   "outputs": [],
   "source": [
    "data_list = [os.path.basename(x) for x in train_imgs]\n",
    "\n",
    "for f in data_list:   \n",
    "    ds = pydicom.read_file(input_path + f) # read dicom image\n",
    "    img = ds.pixel_array # get image array\n",
    "    cv2.imwrite(outdir + f.replace('.dcm','.png'),img) # write png image"
   ]
  },
  {
   "cell_type": "code",
   "execution_count": 6,
   "metadata": {},
   "outputs": [
    {
     "data": {
      "text/plain": [
       "list"
      ]
     },
     "execution_count": 6,
     "metadata": {},
     "output_type": "execute_result"
    }
   ],
   "source": [
    "type(train_imgs)"
   ]
  },
  {
   "cell_type": "code",
   "execution_count": 7,
   "metadata": {},
   "outputs": [
    {
     "data": {
      "text/plain": [
       "['data\\\\1.2.276.0.7230010.3.1.4.8323329.1000.1517875165.878027.dcm',\n",
       " 'data\\\\1.2.276.0.7230010.3.1.4.8323329.10000.1517875220.938530.dcm',\n",
       " 'data\\\\1.2.276.0.7230010.3.1.4.8323329.10001.1517875220.930580.dcm',\n",
       " 'data\\\\1.2.276.0.7230010.3.1.4.8323329.10002.1517875220.939397.dcm',\n",
       " 'data\\\\1.2.276.0.7230010.3.1.4.8323329.10003.1517875220.942420.dcm',\n",
       " 'data\\\\1.2.276.0.7230010.3.1.4.8323329.12743.1517875241.599591.dcm',\n",
       " 'data\\\\1.2.276.0.7230010.3.1.4.8323329.1314.1517875167.222290.dcm',\n",
       " 'data\\\\1.2.276.0.7230010.3.1.4.8323329.4440.1517875182.865105.dcm',\n",
       " 'data\\\\1.2.276.0.7230010.3.1.4.8323329.4904.1517875185.355709.dcm',\n",
       " 'data\\\\1.2.276.0.7230010.3.1.4.8323329.4982.1517875185.837576.dcm']"
      ]
     },
     "execution_count": 7,
     "metadata": {},
     "output_type": "execute_result"
    }
   ],
   "source": [
    "train_imgs"
   ]
  },
  {
   "cell_type": "code",
   "execution_count": 8,
   "metadata": {},
   "outputs": [
    {
     "name": "stdout",
     "output_type": "stream",
     "text": [
      "data/1.2.276.0.7230010.3.1.4.8323329.1000.1517875165.878027.dcm\n",
      "data/1.2.276.0.7230010.3.1.4.8323329.10000.1517875220.938530.dcm\n",
      "data/1.2.276.0.7230010.3.1.4.8323329.10001.1517875220.930580.dcm\n",
      "data/1.2.276.0.7230010.3.1.4.8323329.10002.1517875220.939397.dcm\n",
      "data/1.2.276.0.7230010.3.1.4.8323329.10003.1517875220.942420.dcm\n",
      "data/1.2.276.0.7230010.3.1.4.8323329.12743.1517875241.599591.dcm\n",
      "data/1.2.276.0.7230010.3.1.4.8323329.1314.1517875167.222290.dcm\n",
      "data/1.2.276.0.7230010.3.1.4.8323329.4440.1517875182.865105.dcm\n",
      "data/1.2.276.0.7230010.3.1.4.8323329.4904.1517875185.355709.dcm\n",
      "data/1.2.276.0.7230010.3.1.4.8323329.4982.1517875185.837576.dcm\n"
     ]
    }
   ],
   "source": [
    "for f in data_list:   \n",
    "    print(input_path + f)"
   ]
  },
  {
   "cell_type": "code",
   "execution_count": null,
   "metadata": {},
   "outputs": [],
   "source": []
  },
  {
   "cell_type": "code",
   "execution_count": 9,
   "metadata": {},
   "outputs": [],
   "source": [
    "data_list = [os.path.basename(x) for x in train_imgs]\n",
    "\n",
    "for f in data_list:   \n",
    "    ds = pydicom.read_file(input_path + f) # read dicom image\n",
    "    img = ds.pixel_array # get image array\n",
    "    cv2.imwrite(outdir + f.replace('.dcm','.jpg'),img) # write png image"
   ]
  },
  {
   "cell_type": "code",
   "execution_count": null,
   "metadata": {},
   "outputs": [],
   "source": []
  }
 ],
 "metadata": {
  "kernelspec": {
   "display_name": "Python 3",
   "language": "python",
   "name": "python3"
  },
  "language_info": {
   "codemirror_mode": {
    "name": "ipython",
    "version": 3
   },
   "file_extension": ".py",
   "mimetype": "text/x-python",
   "name": "python",
   "nbconvert_exporter": "python",
   "pygments_lexer": "ipython3",
   "version": "3.7.3"
  }
 },
 "nbformat": 4,
 "nbformat_minor": 2
}
